{
 "cells": [
  {
   "cell_type": "code",
   "execution_count": null,
   "id": "92f8ed89",
   "metadata": {},
   "outputs": [],
   "source": [
    "#Q1\n",
    "# A class is a blueprint or a template while a object is a instance of a class.\n"
   ]
  },
  {
   "cell_type": "markdown",
   "id": "7fc8d991",
   "metadata": {},
   "source": [
    "#Q2\n",
    "#The four pillar of oops are \n",
    "inheritance,polymorphism,encapsulation,abstraction\n",
    "\n",
    "#Q3\n",
    "init function is used to take input in classes\n",
    "\n",
    "#Q4\n",
    "self bind the function in class\n",
    "\n",
    "#Q5\n",
    "inheritance means a class derive from another class"
   ]
  }
 ],
 "metadata": {
  "kernelspec": {
   "display_name": "Python 3 (ipykernel)",
   "language": "python",
   "name": "python3"
  },
  "language_info": {
   "codemirror_mode": {
    "name": "ipython",
    "version": 3
   },
   "file_extension": ".py",
   "mimetype": "text/x-python",
   "name": "python",
   "nbconvert_exporter": "python",
   "pygments_lexer": "ipython3",
   "version": "3.11.1"
  }
 },
 "nbformat": 4,
 "nbformat_minor": 5
}
